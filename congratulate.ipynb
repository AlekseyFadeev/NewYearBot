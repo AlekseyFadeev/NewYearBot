{
 "cells": [
  {
   "cell_type": "code",
   "execution_count": 11,
   "metadata": {
    "collapsed": true,
    "pycharm": {
     "is_executing": false,
     "name": "#%%\n"
    }
   },
   "outputs": [
    {
     "name": "stdout",
     "text": [
      "Enabling: voila\r\n",
      "- Writing config: /home/gordon/PycharmProjects/NewYearWishes/venv/etc/jupyter\r\n",
      "    - Validating...\r\n",
      "      voila 0.2.4 \u001b[32mOK\u001b[0m\r\n",
      "\n",
      "^^^^^^^^^^^^^^^^^^^^^^^^^^^^^^^^^^^^^^^^^^^^^\n",
      "С Новым годом! Мы создали хорошую команду, \n",
      "лучшую команду года. Счастливого года! Да \n",
      "будет ваш сезон свет славы, удачи, здоровья, \n",
      "счастья и процветания. Лучший год на свете \n",
      "для моего дорогого друга. Да наполнится \n",
      "2021 год успехом и надеждой. Мы будем добиваться \n",
      "прогресса во многих отношениях, но с большим \n",
      "доверием к каждому из вас. В этом году мы \n",
      "обретем мечты и наполним наши сердца любовью \n",
      "и удачей. Пусть этот радостный новый год \n",
      "принесет радость и процветание в нашу жизнь."
     ],
     "output_type": "stream"
    },
    {
     "data": {
      "text/plain": "VBox(children=(HTML(value='<h1>Однажды ИИ захватит мир...<br>А сейчас он просто поздравит тебя с Новым годом!<…",
      "application/vnd.jupyter.widget-view+json": {
       "version_major": 2,
       "version_minor": 0,
       "model_id": "516f90252dbc4e0b8a4d40ed0fe36fbe"
      }
     },
     "metadata": {},
     "output_type": "display_data"
    }
   ],
   "source": [
    "import json\n",
    "import sys\n",
    "from glob import glob\n",
    "from random import choice\n",
    "from time import sleep\n",
    "\n",
    "from ipywidgets import widgets, VBox, Layout, HTML, Output\n",
    "\n",
    "#!jupyter serverextension enable voila --sys-prefix\n",
    "\n",
    "congratulations = glob('./congratulations/*.txt')\n",
    "\n",
    "random_chunk = choice(congratulations)\n",
    "\n",
    "with open(random_chunk, \"r\") as read_file:\n",
    "    gratz_chunk = json.load(read_file)\n",
    "    \n",
    "chosen_congratulation = choice(list(gratz_chunk.values()))\n",
    "\n",
    "def delay_print(s):\n",
    "    sys.stdout.write('\\n')\n",
    "    sys.stdout.write('^'*45)\n",
    "    sys.stdout.write('\\n')           \n",
    "    i = 0\n",
    "    for c in s:\n",
    "        sys.stdout.write(c)\n",
    "        sys.stdout.flush()\n",
    "        sleep(0.08)\n",
    "        i += 1\n",
    "        if (i >= 40) and (c == ' '):\n",
    "            sys.stdout.write('\\n')\n",
    "            sys.stdout.flush()\n",
    "            sleep(0.1)\n",
    "            i = 0\n",
    "\n",
    "output = Output(layout={'border': '1px solid black'})\n",
    "\n",
    "button = widgets.Button(\n",
    "                        description='Нажми меня!',\n",
    "                        disabled=False,\n",
    "                        button_style='success', # 'success', 'info', 'warning', 'danger' or ''\n",
    "                        tooltip='Получить поздравление',\n",
    "                        icon='check' # (FontAwesome names without the `fa-` prefix)\n",
    ")\n",
    "def prediction(change):\n",
    "    random_chunk = choice(congratulations)\n",
    "    with open(random_chunk, \"r\") as read_file:\n",
    "        gratz_chunk = json.load(read_file)\n",
    "    chosen_gratz = choice(list(gratz_chunk.values()))\n",
    "    output.append_stdout(delay_print(chosen_gratz[0]['translation_text']))\n",
    "\n",
    "    \n",
    "button.on_click(prediction)\n",
    "\n",
    "header = HTML(\"<h1>Однажды ИИ захватит мир...<br>А сейчас он просто поздравит тебя с Новым годом!</h1>\", layout=Layout(height='auto'))\n",
    "header.style.text_align='center'\n",
    "\n",
    "VBox([header, button, output])"
   ]
  }
 ],
 "metadata": {
  "kernelspec": {
   "display_name": "Python 3",
   "language": "python",
   "name": "python3"
  },
  "language_info": {
   "codemirror_mode": {
    "name": "ipython",
    "version": 2
   },
   "file_extension": ".py",
   "mimetype": "text/x-python",
   "name": "python",
   "nbconvert_exporter": "python",
   "pygments_lexer": "ipython2",
   "version": "2.7.6"
  },
  "pycharm": {
   "stem_cell": {
    "cell_type": "raw",
    "source": [],
    "metadata": {
     "collapsed": false
    }
   }
  }
 },
 "nbformat": 4,
 "nbformat_minor": 0
}