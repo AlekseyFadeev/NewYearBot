{
 "cells": [
  {
   "cell_type": "code",
   "execution_count": 8,
   "metadata": {
    "collapsed": true,
    "pycharm": {
     "is_executing": false,
     "name": "#%%\n"
    }
   },
   "outputs": [
    {
     "data": {
      "text/plain": "VBox(children=(HTML(value='<h1>Однажды ИИ захватит мир...<br>А сейчас он просто поздравит тебя с Новым годом!<…",
      "application/vnd.jupyter.widget-view+json": {
       "version_major": 2,
       "version_minor": 0,
       "model_id": "f81cf31f502948f28d7abb096bb52432"
      }
     },
     "metadata": {},
     "output_type": "display_data"
    }
   ],
   "source": [
    "import json\n",
    "from glob import glob\n",
    "from random import choice\n",
    "from time import sleep\n",
    "\n",
    "from ipywidgets import widgets, VBox, Layout, HTML, Image, Output, Label\n",
    "\n",
    "#!jupyter serverextension enable voila --sys-prefix\n",
    "TEXT_SPEED = 0.08  # меньше - быстрее\n",
    "\n",
    "congratulations = glob('./congratulations/*.txt')\n",
    "\n",
    "output = widgets.Textarea(disabled=True,\n",
    "                          layout=Layout(width='600px', height='150px'))\n",
    "\n",
    "button = widgets.Button(\n",
    "                        description='Нажми меня!',\n",
    "                        disabled=False,\n",
    "                        button_style='success', # 'success', 'info', 'warning', 'danger' or ''\n",
    "                        tooltip='Получить поздравление',\n",
    "                        icon='check' # (FontAwesome names without the `fa-` prefix)\n",
    ")\n",
    "def prediction(change):\n",
    "    output.value = ''\n",
    "    random_chunk = choice(congratulations)\n",
    "    with open(random_chunk, \"r\") as read_file:\n",
    "        gratz_chunk = json.load(read_file)\n",
    "    chosen_gratz = choice(list(gratz_chunk.values()))\n",
    "    output.disabled = False\n",
    "    for c in chosen_gratz[0]['translation_text']:\n",
    "        output.value += c\n",
    "        sleep(TEXT_SPEED)\n",
    "\n",
    "    \n",
    "button.on_click(prediction)\n",
    "\n",
    "header = HTML(\"<h1>Однажды ИИ захватит мир...<br>А сейчас он просто поздравит тебя с Новым годом!</h1>\", layout=Layout(height='auto'))\n",
    "header.style.text_align='center'\n",
    "\n",
    "img = HTML('<img src=\"./CatOdog.png\" alt=\"Rocket Science LTD\">', layout=Layout(height='auto'))\n",
    "lbl = Label(value=r'\\(\\color{grey} {' + 'Powered by Rocket Science Tecnhologies LTD' + '}\\)',font_size=8)\n",
    "vb = VBox([header, button, output, img])\n",
    "vb.layout.align_items = 'center'\n",
    "vb\n"
   ]
  }
 ],
 "metadata": {
  "kernelspec": {
   "display_name": "Python 3",
   "language": "python",
   "name": "python3"
  },
  "language_info": {
   "codemirror_mode": {
    "name": "ipython",
    "version": 2
   },
   "file_extension": ".py",
   "mimetype": "text/x-python",
   "name": "python",
   "nbconvert_exporter": "python",
   "pygments_lexer": "ipython2",
   "version": "2.7.6"
  },
  "pycharm": {
   "stem_cell": {
    "cell_type": "raw",
    "source": [],
    "metadata": {
     "collapsed": false
    }
   }
  }
 },
 "nbformat": 4,
 "nbformat_minor": 0
}