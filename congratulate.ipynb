{
 "cells": [
  {
   "cell_type": "code",
   "execution_count": 24,
   "metadata": {
    "collapsed": true,
    "pycharm": {
     "is_executing": false,
     "name": "#%%\n"
    }
   },
   "outputs": [
    {
     "data": {
      "text/plain": "VBox(children=(HTML(value='<h1>Однажды ИИ захватит мир...<br>А сейчас он просто поздравит тебя с Новым годом!<…",
      "application/vnd.jupyter.widget-view+json": {
       "version_major": 2,
       "version_minor": 0,
       "model_id": "facff9f7ea1f41c98448a604ca2693c2"
      }
     },
     "metadata": {},
     "output_type": "display_data"
    }
   ],
   "source": [
    "import json\n",
    "import sys\n",
    "from glob import glob\n",
    "from random import choice\n",
    "from time import sleep\n",
    "\n",
    "from ipywidgets import widgets, VBox, Layout, HTML, Output\n",
    "\n",
    "#!jupyter serverextension enable voila --sys-prefix\n",
    "\n",
    "congratulations = glob('./congratulations/*.txt')\n",
    "\n",
    "random_chunk = choice(congratulations)\n",
    "\n",
    "with open(random_chunk, \"r\") as read_file:\n",
    "    gratz_chunk = json.load(read_file)\n",
    "    \n",
    "chosen_congratulation = choice(list(gratz_chunk.values()))\n",
    "\n",
    "def delay_print(s):\n",
    "    sys.stdout.write('\\n')\n",
    "    sys.stdout.write('^'*45)\n",
    "    sys.stdout.write('\\n')           \n",
    "    i = 0\n",
    "    for c in s:\n",
    "        sys.stdout.write(c)\n",
    "        sys.stdout.flush()\n",
    "        sleep(0.08)\n",
    "        i += 1\n",
    "        if (i >= 40) and (c == ' '):\n",
    "            sys.stdout.write('\\n')\n",
    "            sys.stdout.flush()\n",
    "            sleep(0.1)\n",
    "            i = 0\n",
    "\n",
    "#output = Output(layout={'border': '1px solid black'})\n",
    "output = widgets.Textarea(disabled=True,\n",
    "                          layout=Layout(width='600px', height='150px'))\n",
    "\n",
    "button = widgets.Button(\n",
    "                        description='Нажми меня!',\n",
    "                        disabled=False,\n",
    "                        button_style='success', # 'success', 'info', 'warning', 'danger' or ''\n",
    "                        tooltip='Получить поздравление',\n",
    "                        icon='check' # (FontAwesome names without the `fa-` prefix)\n",
    ")\n",
    "def prediction(change):\n",
    "    output.value = ''\n",
    "    random_chunk = choice(congratulations)\n",
    "    with open(random_chunk, \"r\") as read_file:\n",
    "        gratz_chunk = json.load(read_file)\n",
    "    chosen_gratz = choice(list(gratz_chunk.values()))\n",
    "    output.disabled = False\n",
    "    for c in chosen_gratz[0]['translation_text']:\n",
    "        output.value += c\n",
    "        sleep(0.08)\n",
    "    #output.append_stdout(delay_print(chosen_gratz[0]['translation_text']))\n",
    "\n",
    "    \n",
    "button.on_click(prediction)\n",
    "\n",
    "header = HTML(\"<h1>Однажды ИИ захватит мир...<br>А сейчас он просто поздравит тебя с Новым годом!</h1>\", layout=Layout(height='auto'))\n",
    "header.style.text_align='center'\n",
    "\n",
    "VBox([header, button, output])"
   ]
  }
 ],
 "metadata": {
  "kernelspec": {
   "display_name": "Python 3",
   "language": "python",
   "name": "python3"
  },
  "language_info": {
   "codemirror_mode": {
    "name": "ipython",
    "version": 2
   },
   "file_extension": ".py",
   "mimetype": "text/x-python",
   "name": "python",
   "nbconvert_exporter": "python",
   "pygments_lexer": "ipython2",
   "version": "2.7.6"
  },
  "pycharm": {
   "stem_cell": {
    "cell_type": "raw",
    "source": [],
    "metadata": {
     "collapsed": false
    }
   }
  }
 },
 "nbformat": 4,
 "nbformat_minor": 0
}